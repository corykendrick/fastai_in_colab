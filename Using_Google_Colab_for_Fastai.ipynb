{
  "nbformat": 4,
  "nbformat_minor": 0,
  "metadata": {
    "colab": {
      "name": "Using_Google_Colab_for_Fastai.ipynb",
      "version": "0.3.2",
      "provenance": [],
      "collapsed_sections": [
        "ArPdbxB-vl9Y",
        "yM4-xQFjOg1s",
        "sIIDTp5G1Hs2",
        "MgvJGuuJs_tL",
        "Xbzp9Z5w1Tcq",
        "NrbLtmTPHyl0"
      ],
      "include_colab_link": true
    },
    "kernelspec": {
      "name": "python3",
      "display_name": "Python 3"
    },
    "accelerator": "GPU"
  },
  "cells": [
    {
      "cell_type": "markdown",
      "metadata": {
        "id": "view-in-github",
        "colab_type": "text"
      },
      "source": [
        "[View in Colaboratory](https://colab.research.google.com/github/corykendrick/fastai_in_colab/blob/master/Using_Google_Colab_for_Fastai.ipynb)"
      ]
    },
    {
      "metadata": {
        "id": "PjOMeCoHHlzQ",
        "colab_type": "text"
      },
      "cell_type": "markdown",
      "source": [
        "# Using Google Colab for Fast.ai\n",
        "\n",
        "Welcome! Here is my one-stop-shop for getting all the Fast.ai lessons to work on Google Colab. I'll be updating this as I work through new lessons. Let me know if you have suggestions or improvements at @corythesaurus (DM me on Twitter).\n",
        "\n",
        "My general workflow is to open each Fast.ai notebook and make a copy of it to save in my Drive, so I can add in my own cells as needed (and save them for later!). You can do that from within Colab: *File > Open Notebook... > click on \"Github\" tab > search for \"fastai\"*. All the notebooks should be there. Once you open a notebook, you can make a copy of it: *File > Save a copy in Drive...*. \n",
        "\n",
        "Finally, make sure you've enabled the GPU! *Edit > Notebook settings > set \"Hardware Accelerator\" to GPU.*"
      ]
    },
    {
      "metadata": {
        "id": "ArPdbxB-vl9Y",
        "colab_type": "text"
      },
      "cell_type": "markdown",
      "source": [
        "## Installing dependencies ##\n",
        "We need to manually install fastai and pytorch. And maybe other things that fastai depends on (see [here](https://github.com/fastai/fastai/blob/master/requirements.txt)).\n",
        "\n",
        "I will be referring to [this fastai forum thread](http://forums.fast.ai/t/colaboratory-and-fastai/10122/6) and [this blogpost](https://towardsdatascience.com/fast-ai-lesson-1-on-google-colab-free-gpu-d2af89f53604) if I get stuck. This is also a handy resource for using pytorch in colab:   https://jovianlin.io/pytorch-with-gpu-in-google-colab/ (and his [example notebook](https://colab.research.google.com/drive/1jxUPzMsAkBboHMQtGyfv5M5c7hU8Ss2c#scrollTo=ed-8FUn2GqQ4)!). And this [post](https://medium.com/@chsafouane/getting-started-with-pytorch-on-google-colab-811c59a656b6)."
      ]
    },
    {
      "metadata": {
        "id": "SY72s-PAwUio",
        "colab_type": "code",
        "colab": {
          "base_uri": "https://localhost:8080/",
          "height": 34
        },
        "outputId": "e3d43571-122f-48c3-de58-42401dc57b99"
      },
      "cell_type": "code",
      "source": [
        "# Check python version\n",
        "import sys\n",
        "sys.version"
      ],
      "execution_count": 4,
      "outputs": [
        {
          "output_type": "execute_result",
          "data": {
            "text/plain": [
              "'3.6.3 (default, Oct  3 2017, 21:45:48) \\n[GCC 7.2.0]'"
            ]
          },
          "metadata": {
            "tags": []
          },
          "execution_count": 4
        }
      ]
    },
    {
      "metadata": {
        "id": "iANBzzcB5zT0",
        "colab_type": "text"
      },
      "cell_type": "markdown",
      "source": [
        "### Installing fastai from source\n",
        "\n",
        "Installing from pypi is not recommended as mentioned in [fastai-github-readme](https://github.com/fastai/fastai)(due to it's rapid changes and lack of tests) and you don't want to use conda on Google Colab. So here are few steps to install the library from source."
      ]
    },
    {
      "metadata": {
        "id": "25w0SMSX6M2q",
        "colab_type": "code",
        "colab": {
          "base_uri": "https://localhost:8080/",
          "height": 102
        },
        "outputId": "bc7e9387-fd7d-499c-e78a-6377ad28b326"
      },
      "cell_type": "code",
      "source": [
        "%%bash\n",
        "\n",
        "# Clone the repo for locally build or update the repo if already exists\n",
        "\n",
        "if ! [ -d fastai ]\n",
        "then\n",
        "  git clone https://github.com/fastai/fastai.git\n",
        "fi\n",
        "\n",
        "cd fastai\n",
        "\n",
        "git pull\n",
        "\n",
        "# Install through pip\n",
        "pip -q install . && echo Successfully Installed Fastai"
      ],
      "execution_count": 1,
      "outputs": [
        {
          "output_type": "stream",
          "text": [
            "Already up-to-date.\n",
            "Successfully Installed Fastai\n"
          ],
          "name": "stdout"
        },
        {
          "output_type": "stream",
          "text": [
            "Cloning into 'fastai'...\n",
            "plotnine 0.4.0 has requirement scipy>=1.0.0, but you'll have scipy 0.19.1 which is incompatible.\n",
            "torchvision 0.2.1 has requirement pillow>=4.1.1, but you'll have pillow 4.0.0 which is incompatible.\n"
          ],
          "name": "stderr"
        }
      ]
    },
    {
      "metadata": {
        "id": "zfndtl8SImbL",
        "colab_type": "code",
        "colab": {}
      },
      "cell_type": "code",
      "source": [
        "# Install PyTorch\n",
        "# I haven't needed to do this, but here's how just in case.\n",
        "!pip3 install http://download.pytorch.org/whl/cu80/torch-0.3.0.post4-cp36-cp36m-linux_x86_64.whl \n",
        "!pip3 install torchvision"
      ],
      "execution_count": 0,
      "outputs": []
    },
    {
      "metadata": {
        "id": "yM4-xQFjOg1s",
        "colab_type": "text"
      },
      "cell_type": "markdown",
      "source": [
        "### Special additions for particular lessons"
      ]
    },
    {
      "metadata": {
        "id": "Qvl80blDOsp3",
        "colab_type": "code",
        "colab": {}
      },
      "cell_type": "code",
      "source": [
        "# Lesson 4\n",
        "!pip3 install spacy\n",
        "!python -m spacy download en"
      ],
      "execution_count": 0,
      "outputs": []
    },
    {
      "metadata": {
        "id": "sIIDTp5G1Hs2",
        "colab_type": "text"
      },
      "cell_type": "markdown",
      "source": [
        "## Import all the libraries ##"
      ]
    },
    {
      "metadata": {
        "id": "szjNuHbH1LPf",
        "colab_type": "code",
        "colab": {}
      },
      "cell_type": "code",
      "source": [
        "# This file contains all the main external libs we'll use\n",
        "from fastai.imports import *"
      ],
      "execution_count": 0,
      "outputs": []
    },
    {
      "metadata": {
        "id": "akD5dZfY1Fx8",
        "colab_type": "code",
        "colab": {}
      },
      "cell_type": "code",
      "source": [
        "from fastai.transforms import *\n",
        "from fastai.conv_learner import *\n",
        "from fastai.model import *\n",
        "from fastai.dataset import *\n",
        "from fastai.sgdr import *\n",
        "from fastai.plots import *"
      ],
      "execution_count": 0,
      "outputs": []
    },
    {
      "metadata": {
        "id": "MgvJGuuJs_tL",
        "colab_type": "text"
      },
      "cell_type": "markdown",
      "source": [
        "## GPU setup ##\n",
        "Google is very generous and gives access to a GPU for CoLab users. Make sure it's enabled: Edit > Notebook settings > set \"Hardware accelerator\" to GPU.\n",
        "\n",
        "The following is just to assuage your fears that you're being rate-limited or otherwise; you don't need to add these cells to your notebooks to get them to run. Just make sure you've enabled the GPU in the notebook settings. This is easy to forget :)"
      ]
    },
    {
      "metadata": {
        "id": "Xbzp9Z5w1Tcq",
        "colab_type": "text"
      },
      "cell_type": "markdown",
      "source": [
        "### Check that the GPU is available"
      ]
    },
    {
      "metadata": {
        "id": "zt_ux_PqxL2N",
        "colab_type": "code",
        "colab": {
          "base_uri": "https://localhost:8080/",
          "height": 34
        },
        "outputId": "1d857fc5-a8eb-48b8-bd92-d328ead0578e"
      },
      "cell_type": "code",
      "source": [
        "torch.cuda.is_available()"
      ],
      "execution_count": 9,
      "outputs": [
        {
          "output_type": "execute_result",
          "data": {
            "text/plain": [
              "True"
            ]
          },
          "metadata": {
            "tags": []
          },
          "execution_count": 9
        }
      ]
    },
    {
      "metadata": {
        "id": "tsbpgNqj1YEA",
        "colab_type": "code",
        "colab": {
          "base_uri": "https://localhost:8080/",
          "height": 34
        },
        "outputId": "fe195c6c-f345-4243-c247-2fefb188ca86"
      },
      "cell_type": "code",
      "source": [
        "torch.backends.cudnn.enabled"
      ],
      "execution_count": 10,
      "outputs": [
        {
          "output_type": "execute_result",
          "data": {
            "text/plain": [
              "True"
            ]
          },
          "metadata": {
            "tags": []
          },
          "execution_count": 10
        }
      ]
    },
    {
      "metadata": {
        "id": "NrbLtmTPHyl0",
        "colab_type": "text"
      },
      "cell_type": "markdown",
      "source": [
        "### Check how much of the GPU is available\n",
        "\n",
        "I'm using the following code from [a stackoverflow thread](https://stackoverflow.com/questions/48750199/google-colaboratory-misleading-information-about-its-gpu-only-5-ram-available\n",
        ") to check what % of the GPU is being utilized right now. 100% is bad; 0% is good (all free for me to use!)."
      ]
    },
    {
      "metadata": {
        "id": "tCHMN-qZs5NJ",
        "colab_type": "code",
        "colab": {
          "base_uri": "https://localhost:8080/",
          "height": 459
        },
        "outputId": "beccc44f-7ebb-47d0-b24c-8e3456d1cdeb"
      },
      "cell_type": "code",
      "source": [
        "# memory footprint support libraries/code\n",
        "!ln -sf /opt/bin/nvidia-smi /usr/bin/nvidia-smi\n",
        "!pip install gputil\n",
        "!pip install psutil\n",
        "!pip install humanize\n",
        "import psutil\n",
        "import humanize\n",
        "import os\n",
        "import GPUtil as GPU\n",
        "GPUs = GPU.getGPUs()\n",
        "# XXX: only one GPU on Colab and isn’t guaranteed\n",
        "gpu = GPUs[0]\n",
        "def printm():\n",
        " process = psutil.Process(os.getpid())\n",
        " print(\"Gen RAM Free: \" + humanize.naturalsize( psutil.virtual_memory().available ), \" | Proc size: \" + humanize.naturalsize( process.memory_info().rss))\n",
        " print(\"GPU RAM Free: {0:.0f}MB | Used: {1:.0f}MB | Util {2:3.0f}% | Total {3:.0f}MB\".format(gpu.memoryFree, gpu.memoryUsed, gpu.memoryUtil*100, gpu.memoryTotal))\n",
        "printm()"
      ],
      "execution_count": 11,
      "outputs": [
        {
          "output_type": "stream",
          "text": [
            "Collecting gputil\n",
            "  Downloading https://files.pythonhosted.org/packages/45/99/837428d26b47ebd6b66d6e1b180e98ec4a557767a93a81a02ea9d6242611/GPUtil-1.3.0.tar.gz\n",
            "Requirement already satisfied: numpy in /usr/local/lib/python3.6/dist-packages (from gputil) (1.14.5)\n",
            "Building wheels for collected packages: gputil\n",
            "  Running setup.py bdist_wheel for gputil ... \u001b[?25l-\b \bdone\n",
            "\u001b[?25h  Stored in directory: /content/.cache/pip/wheels/17/0f/04/b79c006972335e35472c0b835ed52bfc0815258d409f560108\n",
            "Successfully built gputil\n",
            "\u001b[31mtorchvision 0.2.1 has requirement pillow>=4.1.1, but you'll have pillow 4.0.0 which is incompatible.\u001b[0m\n",
            "\u001b[31mplotnine 0.3.0 has requirement scipy>=1.0.0, but you'll have scipy 0.19.1 which is incompatible.\u001b[0m\n",
            "Installing collected packages: gputil\n",
            "Successfully installed gputil-1.3.0\n",
            "Requirement already satisfied: psutil in /usr/local/lib/python3.6/dist-packages (5.4.6)\n",
            "\u001b[31mtorchvision 0.2.1 has requirement pillow>=4.1.1, but you'll have pillow 4.0.0 which is incompatible.\u001b[0m\n",
            "\u001b[31mplotnine 0.3.0 has requirement scipy>=1.0.0, but you'll have scipy 0.19.1 which is incompatible.\u001b[0m\n",
            "Collecting humanize\n",
            "  Downloading https://files.pythonhosted.org/packages/8c/e0/e512e4ac6d091fc990bbe13f9e0378f34cf6eecd1c6c268c9e598dcf5bb9/humanize-0.5.1.tar.gz\n",
            "Building wheels for collected packages: humanize\n",
            "  Running setup.py bdist_wheel for humanize ... \u001b[?25l-\b \b\\\b \bdone\n",
            "\u001b[?25h  Stored in directory: /content/.cache/pip/wheels/69/86/6c/f8b8593bc273ec4b0c653d3827f7482bb2001a2781a73b7f44\n",
            "Successfully built humanize\n",
            "\u001b[31mtorchvision 0.2.1 has requirement pillow>=4.1.1, but you'll have pillow 4.0.0 which is incompatible.\u001b[0m\n",
            "\u001b[31mplotnine 0.3.0 has requirement scipy>=1.0.0, but you'll have scipy 0.19.1 which is incompatible.\u001b[0m\n",
            "Installing collected packages: humanize\n",
            "Successfully installed humanize-0.5.1\n",
            "Gen RAM Free: 12.6 GB  | Proc size: 267.0 MB\n",
            "GPU RAM Free: 11428MB | Used: 11MB | Util   0% | Total 11439MB\n"
          ],
          "name": "stdout"
        }
      ]
    },
    {
      "metadata": {
        "id": "ajpLYwG5tnh0",
        "colab_type": "text"
      },
      "cell_type": "markdown",
      "source": [
        "## Cloning the fastai git repo ##\n",
        "You likely don't actually need to do this, but if you want direct access to the .xls files, or want to inspect or fork their code... clone the fastai repository!"
      ]
    },
    {
      "metadata": {
        "id": "5znH0gMds-Ek",
        "colab_type": "code",
        "colab": {
          "base_uri": "https://localhost:8080/",
          "height": 102
        },
        "outputId": "20cd0e2a-f840-4e21-94b0-501530e5591d"
      },
      "cell_type": "code",
      "source": [
        "!git clone https://github.com/fastai/courses.git"
      ],
      "execution_count": 0,
      "outputs": [
        {
          "output_type": "stream",
          "text": [
            "Cloning into 'courses'...\n",
            "remote: Counting objects: 765, done.\u001b[K\n",
            "remote: Total 765 (delta 0), reused 0 (delta 0), pack-reused 765\u001b[K\n",
            "Receiving objects: 100% (765/765), 22.40 MiB | 41.70 MiB/s, done.\n",
            "Resolving deltas: 100% (409/409), done.\n"
          ],
          "name": "stdout"
        }
      ]
    },
    {
      "metadata": {
        "id": "ErAMoiyKvPGS",
        "colab_type": "code",
        "colab": {
          "base_uri": "https://localhost:8080/",
          "height": 34
        },
        "outputId": "f972b1f1-3576-4db8-b8bb-c64cb23c97d2"
      },
      "cell_type": "code",
      "source": [
        "!pwd"
      ],
      "execution_count": 0,
      "outputs": [
        {
          "output_type": "stream",
          "text": [
            "/content\r\n"
          ],
          "name": "stdout"
        }
      ]
    },
    {
      "metadata": {
        "id": "VpSnZpJsvSBy",
        "colab_type": "code",
        "colab": {
          "base_uri": "https://localhost:8080/",
          "height": 34
        },
        "outputId": "05160013-2a66-4e6e-9f87-f07ec1664e61"
      },
      "cell_type": "code",
      "source": [
        "!ls courses"
      ],
      "execution_count": 0,
      "outputs": [
        {
          "output_type": "stream",
          "text": [
            "deeplearning1  deeplearning2  LICENSE.txt  README.md  requirements.txt\tsetup\r\n"
          ],
          "name": "stdout"
        }
      ]
    },
    {
      "metadata": {
        "id": "breQBLV1vUjd",
        "colab_type": "code",
        "colab": {
          "base_uri": "https://localhost:8080/",
          "height": 34
        },
        "outputId": "a457fbce-987d-416e-ebb1-0bf857db9002"
      },
      "cell_type": "code",
      "source": [
        "!ls courses/deeplearning1"
      ],
      "execution_count": 0,
      "outputs": [
        {
          "output_type": "stream",
          "text": [
            "excel  nbs\r\n"
          ],
          "name": "stdout"
        }
      ]
    },
    {
      "metadata": {
        "id": "KvaQJvs-vX1G",
        "colab_type": "code",
        "colab": {
          "base_uri": "https://localhost:8080/",
          "height": 51
        },
        "outputId": "2ad8cae7-6875-47f0-acb5-2a70f7b404f5"
      },
      "cell_type": "code",
      "source": [
        "!ls courses/deeplearning1/excel"
      ],
      "execution_count": 0,
      "outputs": [
        {
          "output_type": "stream",
          "text": [
            "collab_filter.xlsx  entropy_example.xlsx  layers_example.xlsx\r\n",
            "conv-example.xlsx   graddesc.xlsm\r\n"
          ],
          "name": "stdout"
        }
      ]
    },
    {
      "metadata": {
        "id": "jLYN0MSazvEs",
        "colab_type": "text"
      },
      "cell_type": "markdown",
      "source": [
        "## Accessing the fastai data files (lessons 1, 3, 4) ##\n",
        "If you get a fastai URL to a .zip or .tgz - follow these directions to import the data into your notebook.\n",
        "\n",
        "Here's the snippet from Lesson 1: *The dataset is available at http://files.fast.ai/data/dogscats.zip. You can download it directly on your server by running the following line in your terminal. wget http://files.fast.ai/data/dogscats.zip. You should put the data in a subdirectory of this notebook's directory, called data/. Note that this data is already available in Crestle and the Paperspace fast.ai template.*"
      ]
    },
    {
      "metadata": {
        "id": "zsjGwMYbKOnv",
        "colab_type": "text"
      },
      "cell_type": "markdown",
      "source": [
        "### If it's a .zip file (lesson 1):"
      ]
    },
    {
      "metadata": {
        "id": "hWAzRDI2OChd",
        "colab_type": "text"
      },
      "cell_type": "markdown",
      "source": [
        "####Lesson 1: Dogs & Cats data"
      ]
    },
    {
      "metadata": {
        "id": "lrmNSfsjz1Kw",
        "colab_type": "code",
        "colab": {}
      },
      "cell_type": "code",
      "source": [
        "# Get the file from fast.ai URL, unzip it, and put it into the folder 'data'\n",
        "# This uses -qq to make the unzipping less verbose.\n",
        "!wget http://files.fast.ai/data/dogscats.zip && unzip -qq dogscats.zip -d data/"
      ],
      "execution_count": 0,
      "outputs": []
    },
    {
      "metadata": {
        "id": "Yke4ZiW30Lme",
        "colab_type": "code",
        "colab": {
          "base_uri": "https://localhost:8080/",
          "height": 34
        },
        "outputId": "29cc8309-e0d4-4f3b-f0fb-9a4b5e3dab5a"
      },
      "cell_type": "code",
      "source": [
        "# Check to make sure the data is where you think it is:\n",
        "!ls"
      ],
      "execution_count": 13,
      "outputs": [
        {
          "output_type": "stream",
          "text": [
            "data  datalab  dogscats.zip\r\n"
          ],
          "name": "stdout"
        }
      ]
    },
    {
      "metadata": {
        "id": "niEYffpt7vWx",
        "colab_type": "code",
        "colab": {
          "base_uri": "https://localhost:8080/",
          "height": 34
        },
        "outputId": "e62d9ada-778a-4a1c-a10f-55781a9727d5"
      },
      "cell_type": "code",
      "source": [
        "# Check to make sure the folders all unzipped properly:\n",
        "!ls data/dogscats"
      ],
      "execution_count": 14,
      "outputs": [
        {
          "output_type": "stream",
          "text": [
            "models\tsample\ttest1  train  valid\r\n"
          ],
          "name": "stdout"
        }
      ]
    },
    {
      "metadata": {
        "id": "8QZZcpKMKRNr",
        "colab_type": "text"
      },
      "cell_type": "markdown",
      "source": [
        "### If it's a .tgz file (lesson 3 & 4):"
      ]
    },
    {
      "metadata": {
        "id": "k0g74wueNNFz",
        "colab_type": "text"
      },
      "cell_type": "markdown",
      "source": [
        "####Lesson 3: Rossmann data"
      ]
    },
    {
      "metadata": {
        "id": "OicNnAQbNPCO",
        "colab_type": "code",
        "colab": {
          "base_uri": "https://localhost:8080/",
          "height": 204
        },
        "outputId": "eebb0853-55cf-49e0-d399-8a6e0b27165e"
      },
      "cell_type": "code",
      "source": [
        "# Get the Rossmann data from the fast.ai URL, and make a nested directory to put it in later. \n",
        "# -p flag from mkdir is to make a parent directory (allows nested directories to be created at once)\n",
        "!wget http://files.fast.ai/part2/lesson14/rossmann.tgz && mkdir -p ~/data/rossmann"
      ],
      "execution_count": 20,
      "outputs": [
        {
          "output_type": "stream",
          "text": [
            "--2018-07-18 21:05:33--  http://files.fast.ai/part2/lesson14/rossmann.tgz\r\n",
            "Resolving files.fast.ai (files.fast.ai)... 67.205.15.147\r\n",
            "Connecting to files.fast.ai (files.fast.ai)|67.205.15.147|:80... connected.\n",
            "HTTP request sent, awaiting response... 200 OK\n",
            "Length: 7730448 (7.4M) [text/plain]\n",
            "Saving to: ‘rossmann.tgz’\n",
            "\n",
            "rossmann.tgz        100%[===================>]   7.37M  27.8MB/s    in 0.3s    \n",
            "\n",
            "2018-07-18 21:05:33 (27.8 MB/s) - ‘rossmann.tgz’ saved [7730448/7730448]\n",
            "\n"
          ],
          "name": "stdout"
        }
      ]
    },
    {
      "metadata": {
        "id": "yGJbvBTDNTmW",
        "colab_type": "code",
        "colab": {}
      },
      "cell_type": "code",
      "source": [
        "# Unzip the .tgz file\n",
        "# x for extract\n",
        "# -v for verbose    # NOTE: I usually turn this off; it prints a lot...\n",
        "# -z for gnuzip\n",
        "# -f for file (should come at last just before file name)\n",
        "# -C to extract the zipped contents to a different directory\n",
        "!tar -xzf rossmann.tgz -C ~/data/rossmann/"
      ],
      "execution_count": 0,
      "outputs": []
    },
    {
      "metadata": {
        "id": "jI91qUCQNdLm",
        "colab_type": "code",
        "colab": {}
      },
      "cell_type": "code",
      "source": [
        "# Remove the .tgz file\n",
        "!rm rossmann.tgz"
      ],
      "execution_count": 0,
      "outputs": []
    },
    {
      "metadata": {
        "id": "mDAMGkyKNg4-",
        "colab_type": "code",
        "colab": {
          "base_uri": "https://localhost:8080/",
          "height": 51
        },
        "outputId": "72d97c43-b759-4880-c279-a3d237994dfd"
      },
      "cell_type": "code",
      "source": [
        "# Make sure the data's where we think it is:\n",
        "!ls ~/data/rossmann"
      ],
      "execution_count": 23,
      "outputs": [
        {
          "output_type": "stream",
          "text": [
            "googletrend.csv        state_names.csv\tstore_states.csv  train.csv\r\n",
            "sample_submission.csv  store.csv\ttest.csv\t  weather.csv\r\n"
          ],
          "name": "stdout"
        }
      ]
    },
    {
      "metadata": {
        "id": "g5rsx0oDNKta",
        "colab_type": "text"
      },
      "cell_type": "markdown",
      "source": [
        "####Lesson 4: IMDB data"
      ]
    },
    {
      "metadata": {
        "id": "bIpVv43OKS_d",
        "colab_type": "code",
        "colab": {
          "base_uri": "https://localhost:8080/",
          "height": 204
        },
        "outputId": "3ef06490-1a15-4a28-b364-4a51f2fe07ad"
      },
      "cell_type": "code",
      "source": [
        "# Get the IMDB data from the fastai URL: \n",
        "!wget http://files.fast.ai/data/aclImdb.tgz"
      ],
      "execution_count": 15,
      "outputs": [
        {
          "output_type": "stream",
          "text": [
            "--2018-07-18 21:00:23--  http://files.fast.ai/data/aclImdb.tgz\r\n",
            "Resolving files.fast.ai (files.fast.ai)... 67.205.15.147\r\n",
            "Connecting to files.fast.ai (files.fast.ai)|67.205.15.147|:80... connected.\n",
            "HTTP request sent, awaiting response... 200 OK\n",
            "Length: 145982645 (139M) [text/plain]\n",
            "Saving to: ‘aclImdb.tgz’\n",
            "\n",
            "aclImdb.tgz         100%[===================>] 139.22M  88.7MB/s    in 1.6s    \n",
            "\n",
            "2018-07-18 21:00:25 (88.7 MB/s) - ‘aclImdb.tgz’ saved [145982645/145982645]\n",
            "\n"
          ],
          "name": "stdout"
        }
      ]
    },
    {
      "metadata": {
        "id": "LO4douK5KWLb",
        "colab_type": "code",
        "colab": {
          "base_uri": "https://localhost:8080/",
          "height": 34
        },
        "outputId": "93640391-119a-464c-c9a4-54dbb74d8d4a"
      },
      "cell_type": "code",
      "source": [
        "# Make sure it imported properly:\n",
        "!ls"
      ],
      "execution_count": 16,
      "outputs": [
        {
          "output_type": "stream",
          "text": [
            "aclImdb.tgz  data  datalab  dogscats.zip\r\n"
          ],
          "name": "stdout"
        }
      ]
    },
    {
      "metadata": {
        "id": "_jJfYk3gMFQt",
        "colab_type": "code",
        "colab": {}
      },
      "cell_type": "code",
      "source": [
        "# Unzip the tgz file\n",
        "# x for extract\n",
        "# -v for verbose    # NOTE: I usually turn this off; it prints a lot...\n",
        "# -z for gnuzip\n",
        "# -f for file (should come at last just before file name)\n",
        "# -C to extract the zipped contents to a different directory\n",
        "!tar -xvzf aclImdb.tgz -C data/"
      ],
      "execution_count": 0,
      "outputs": []
    },
    {
      "metadata": {
        "id": "zZQOmJVZMIjN",
        "colab_type": "code",
        "colab": {}
      },
      "cell_type": "code",
      "source": [
        "# Remove the original .tgz file\n",
        "!rm aclImdb.tgz"
      ],
      "execution_count": 0,
      "outputs": []
    },
    {
      "metadata": {
        "id": "S-zjoTLkMJ-9",
        "colab_type": "code",
        "colab": {
          "base_uri": "https://localhost:8080/",
          "height": 34
        },
        "outputId": "3b6febf8-0b21-4285-d09d-ab15349c4a26"
      },
      "cell_type": "code",
      "source": [
        "# Make sure the data is where we think it is:\n",
        "!ls data/aclImdb"
      ],
      "execution_count": 19,
      "outputs": [
        {
          "output_type": "stream",
          "text": [
            "imdbEr.txt  imdb.vocab\tREADME\ttest  train\r\n"
          ],
          "name": "stdout"
        }
      ]
    },
    {
      "metadata": {
        "id": "1NXgEO6_u8pr",
        "colab_type": "text"
      },
      "cell_type": "markdown",
      "source": [
        "##Getting data from Kaggle, using the Kaggle CLI (lesson 2)"
      ]
    },
    {
      "metadata": {
        "id": "oWuViRU3JCJi",
        "colab_type": "text"
      },
      "cell_type": "markdown",
      "source": [
        "Install the Kaggle API; authenticate; and then use the Kaggle command line interface to access data."
      ]
    },
    {
      "metadata": {
        "id": "1O17nYxGvAP0",
        "colab_type": "code",
        "colab": {}
      },
      "cell_type": "code",
      "source": [
        "# Install the Kaggle API\n",
        "!pip3 install kaggle"
      ],
      "execution_count": 0,
      "outputs": []
    },
    {
      "metadata": {
        "id": "aBlnbQ-wJNCY",
        "colab_type": "code",
        "colab": {}
      },
      "cell_type": "code",
      "source": [
        "# Import kaggle.json from Google Drive\n",
        "# This snippet will output a link which needs authentication from any Google account\n",
        "\n",
        "from googleapiclient.discovery import build\n",
        "import io, os\n",
        "from googleapiclient.http import MediaIoBaseDownload\n",
        "from google.colab import auth\n",
        "\n",
        "auth.authenticate_user()\n",
        "\n",
        "drive_service = build('drive', 'v3')\n",
        "results = drive_service.files().list(\n",
        "        q=\"name = 'kaggle.json'\", fields=\"files(id)\").execute()\n",
        "kaggle_api_key = results.get('files', [])\n",
        "\n",
        "filename = \"/content/.kaggle/kaggle.json\"\n",
        "os.makedirs(os.path.dirname(filename), exist_ok=True)\n",
        "\n",
        "request = drive_service.files().get_media(fileId=kaggle_api_key[0]['id'])\n",
        "fh = io.FileIO(filename, 'wb')\n",
        "downloader = MediaIoBaseDownload(fh, request)\n",
        "done = False\n",
        "while done is False:\n",
        "    status, done = downloader.next_chunk()\n",
        "    print(\"Download %d%%.\" % int(status.progress() * 100))\n",
        "os.chmod(filename, 600)"
      ],
      "execution_count": 0,
      "outputs": []
    },
    {
      "metadata": {
        "id": "_xNKTHPMJRb5",
        "colab_type": "text"
      },
      "cell_type": "markdown",
      "source": [
        "**Now we have the Kaggle API set up!**\n",
        "\n",
        "Here are a few examples of what we can do now, using the Kaggle API:\n",
        "\n",
        "```\n",
        "!kaggle competitions list\n",
        "!kaggle datasets download -d stanfordu/street-view-house-numbers -w -f street-view-house-numbers.zip\n",
        "```\n",
        "More documentation on the Kaggle API here: https://github.com/Kaggle/kaggle-api"
      ]
    },
    {
      "metadata": {
        "id": "8w2pvt26J6al",
        "colab_type": "text"
      },
      "cell_type": "markdown",
      "source": [
        "**Typical workflow:**\n",
        "\n",
        "Download the zip file of a dataset:\n",
        "```\n",
        "!kaggle datasets download -d \n",
        "```\n",
        "And then unzip the file and move to a directory:\n",
        "```\n",
        "!unzip street-view-house-numbers.zip \n",
        "```\n",
        "Check to make sure it's there:\n",
        "```\n",
        "!ls\n",
        "```\n",
        "\n",
        "*This post was helpful for this lesson 2 data in particular: http://forums.fast.ai/t/how-to-download-data-for-lesson-2-from-kaggle-for-planet-competition/7684/38*"
      ]
    },
    {
      "metadata": {
        "id": "MmOWEDwrJZEz",
        "colab_type": "code",
        "colab": {}
      },
      "cell_type": "code",
      "source": [
        "# List the files for the Planet data\n",
        "!kaggle competitions files -c planet-understanding-the-amazon-from-space"
      ],
      "execution_count": 0,
      "outputs": []
    },
    {
      "metadata": {
        "id": "7hK484tkJc2v",
        "colab_type": "code",
        "colab": {}
      },
      "cell_type": "code",
      "source": [
        "# -c: competition name\n",
        "# -f: which file you want to download\n",
        "# -p: path to where the file should be saved\n",
        "!kaggle competitions download -c planet-understanding-the-amazon-from-space -f train-jpg.tar.7z -p ~/data/planet/\n",
        "!kaggle competitions download -c planet-understanding-the-amazon-from-space -f test-jpg.tar.7z -p ~/data/planet/\n",
        "!kaggle competitions download -c planet-understanding-the-amazon-from-space -f train_v2.csv.zip -p ~/data/planet/"
      ],
      "execution_count": 0,
      "outputs": []
    },
    {
      "metadata": {
        "id": "aFk17TwJJhah",
        "colab_type": "code",
        "colab": {}
      },
      "cell_type": "code",
      "source": [
        "# Make sure the data is where you think it is:\n",
        "!ls ~/data/planet"
      ],
      "execution_count": 0,
      "outputs": []
    },
    {
      "metadata": {
        "id": "cjA-tPL-Jj6L",
        "colab_type": "code",
        "colab": {}
      },
      "cell_type": "code",
      "source": [
        "# In order to unzip the 7z files, need to install p7zip\n",
        "# This was helpful: http://forums.fast.ai/t/unzipping-tar-7z-files-in-google-collab-notebook/14857/4\n",
        "!apt-get install p7zip-full"
      ],
      "execution_count": 0,
      "outputs": []
    },
    {
      "metadata": {
        "id": "cpamNgF-Jnmh",
        "colab_type": "code",
        "colab": {}
      },
      "cell_type": "code",
      "source": [
        "# Unzip the 7zip files\n",
        "# -d: which file to un7zip\n",
        "!p7zip -d ~/data/planet/test-jpg.tar.7z \n",
        "!p7zip -d ~/data/planet/train-jpg.tar.7z "
      ],
      "execution_count": 0,
      "outputs": []
    },
    {
      "metadata": {
        "id": "eS08MzjLVS0F",
        "colab_type": "code",
        "colab": {}
      },
      "cell_type": "code",
      "source": [
        "# Unzip the .tar files\n",
        "!tar -xvf ~/data/planet/test-jpg.tar\n",
        "!tar -xvf ~/data/planet/train-jpg.tar"
      ],
      "execution_count": 0,
      "outputs": []
    },
    {
      "metadata": {
        "id": "CSQ8v4KFVbjN",
        "colab_type": "code",
        "colab": {}
      },
      "cell_type": "code",
      "source": [
        "# Move the unzipped folders into data/planet/\n",
        "!mv test-jpg ~/data/planet/ && mv train-jpg ~/data/planet/"
      ],
      "execution_count": 0,
      "outputs": []
    },
    {
      "metadata": {
        "id": "qVH_9dNHVdeR",
        "colab_type": "code",
        "colab": {}
      },
      "cell_type": "code",
      "source": [
        "# Unzip the regular file\n",
        "!unzip ~/data/planet/train_v2.csv.zip -d ~/data/planet/"
      ],
      "execution_count": 0,
      "outputs": []
    },
    {
      "metadata": {
        "id": "XqIuhb3EVeBk",
        "colab_type": "code",
        "colab": {}
      },
      "cell_type": "code",
      "source": [
        "# Make sure everything looks as it should:\n",
        "!ls ~/data/planet/"
      ],
      "execution_count": 0,
      "outputs": []
    },
    {
      "metadata": {
        "id": "inVvQHTN74ph",
        "colab_type": "text"
      },
      "cell_type": "markdown",
      "source": [
        "## Now we're ready to go! ##"
      ]
    }
  ]
}
